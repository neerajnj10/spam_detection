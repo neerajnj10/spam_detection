{
 "cells": [
  {
   "cell_type": "code",
   "execution_count": 1,
   "metadata": {},
   "outputs": [],
   "source": [
    "import numpy as np # linear algebra\n",
    "import pandas as pd # data processing, CSV file I/O (e.g. pd.read_csv)\n",
    "import matplotlib.pyplot as plt\n",
    "import seaborn as sns\n",
    "%matplotlib inline\n",
    "\n",
    "pal = sns.color_palette()"
   ]
  },
  {
   "cell_type": "code",
   "execution_count": 2,
   "metadata": {},
   "outputs": [
    {
     "data": {
      "text/html": [
       "<div>\n",
       "<style scoped>\n",
       "    .dataframe tbody tr th:only-of-type {\n",
       "        vertical-align: middle;\n",
       "    }\n",
       "\n",
       "    .dataframe tbody tr th {\n",
       "        vertical-align: top;\n",
       "    }\n",
       "\n",
       "    .dataframe thead th {\n",
       "        text-align: right;\n",
       "    }\n",
       "</style>\n",
       "<table border=\"1\" class=\"dataframe\">\n",
       "  <thead>\n",
       "    <tr style=\"text-align: right;\">\n",
       "      <th></th>\n",
       "      <th>v1</th>\n",
       "      <th>v2</th>\n",
       "      <th>Unnamed: 2</th>\n",
       "      <th>Unnamed: 3</th>\n",
       "      <th>Unnamed: 4</th>\n",
       "    </tr>\n",
       "  </thead>\n",
       "  <tbody>\n",
       "    <tr>\n",
       "      <th>0</th>\n",
       "      <td>ham</td>\n",
       "      <td>Go until jurong point, crazy.. Available only ...</td>\n",
       "      <td>NaN</td>\n",
       "      <td>NaN</td>\n",
       "      <td>NaN</td>\n",
       "    </tr>\n",
       "    <tr>\n",
       "      <th>1</th>\n",
       "      <td>ham</td>\n",
       "      <td>Ok lar... Joking wif u oni...</td>\n",
       "      <td>NaN</td>\n",
       "      <td>NaN</td>\n",
       "      <td>NaN</td>\n",
       "    </tr>\n",
       "    <tr>\n",
       "      <th>2</th>\n",
       "      <td>spam</td>\n",
       "      <td>Free entry in 2 a wkly comp to win FA Cup fina...</td>\n",
       "      <td>NaN</td>\n",
       "      <td>NaN</td>\n",
       "      <td>NaN</td>\n",
       "    </tr>\n",
       "    <tr>\n",
       "      <th>3</th>\n",
       "      <td>ham</td>\n",
       "      <td>U dun say so early hor... U c already then say...</td>\n",
       "      <td>NaN</td>\n",
       "      <td>NaN</td>\n",
       "      <td>NaN</td>\n",
       "    </tr>\n",
       "    <tr>\n",
       "      <th>4</th>\n",
       "      <td>ham</td>\n",
       "      <td>Nah I don't think he goes to usf, he lives aro...</td>\n",
       "      <td>NaN</td>\n",
       "      <td>NaN</td>\n",
       "      <td>NaN</td>\n",
       "    </tr>\n",
       "  </tbody>\n",
       "</table>\n",
       "</div>"
      ],
      "text/plain": [
       "     v1                                                 v2 Unnamed: 2  \\\n",
       "0   ham  Go until jurong point, crazy.. Available only ...        NaN   \n",
       "1   ham                      Ok lar... Joking wif u oni...        NaN   \n",
       "2  spam  Free entry in 2 a wkly comp to win FA Cup fina...        NaN   \n",
       "3   ham  U dun say so early hor... U c already then say...        NaN   \n",
       "4   ham  Nah I don't think he goes to usf, he lives aro...        NaN   \n",
       "\n",
       "  Unnamed: 3 Unnamed: 4  \n",
       "0        NaN        NaN  \n",
       "1        NaN        NaN  \n",
       "2        NaN        NaN  \n",
       "3        NaN        NaN  \n",
       "4        NaN        NaN  "
      ]
     },
     "execution_count": 2,
     "metadata": {},
     "output_type": "execute_result"
    }
   ],
   "source": [
    "df = pd.read_csv('spam.csv', encoding='latin-1')\n",
    "\n",
    "# Preview data\n",
    "df.head()"
   ]
  },
  {
   "cell_type": "code",
   "execution_count": 3,
   "metadata": {},
   "outputs": [
    {
     "data": {
      "text/html": [
       "<div>\n",
       "<style scoped>\n",
       "    .dataframe tbody tr th:only-of-type {\n",
       "        vertical-align: middle;\n",
       "    }\n",
       "\n",
       "    .dataframe tbody tr th {\n",
       "        vertical-align: top;\n",
       "    }\n",
       "\n",
       "    .dataframe thead th {\n",
       "        text-align: right;\n",
       "    }\n",
       "</style>\n",
       "<table border=\"1\" class=\"dataframe\">\n",
       "  <thead>\n",
       "    <tr style=\"text-align: right;\">\n",
       "      <th></th>\n",
       "      <th>label</th>\n",
       "      <th>sms_text</th>\n",
       "    </tr>\n",
       "  </thead>\n",
       "  <tbody>\n",
       "    <tr>\n",
       "      <th>0</th>\n",
       "      <td>ham</td>\n",
       "      <td>Go until jurong point, crazy.. Available only ...</td>\n",
       "    </tr>\n",
       "    <tr>\n",
       "      <th>1</th>\n",
       "      <td>ham</td>\n",
       "      <td>Ok lar... Joking wif u oni...</td>\n",
       "    </tr>\n",
       "    <tr>\n",
       "      <th>2</th>\n",
       "      <td>spam</td>\n",
       "      <td>Free entry in 2 a wkly comp to win FA Cup fina...</td>\n",
       "    </tr>\n",
       "    <tr>\n",
       "      <th>3</th>\n",
       "      <td>ham</td>\n",
       "      <td>U dun say so early hor... U c already then say...</td>\n",
       "    </tr>\n",
       "    <tr>\n",
       "      <th>4</th>\n",
       "      <td>ham</td>\n",
       "      <td>Nah I don't think he goes to usf, he lives aro...</td>\n",
       "    </tr>\n",
       "  </tbody>\n",
       "</table>\n",
       "</div>"
      ],
      "text/plain": [
       "  label                                           sms_text\n",
       "0   ham  Go until jurong point, crazy.. Available only ...\n",
       "1   ham                      Ok lar... Joking wif u oni...\n",
       "2  spam  Free entry in 2 a wkly comp to win FA Cup fina...\n",
       "3   ham  U dun say so early hor... U c already then say...\n",
       "4   ham  Nah I don't think he goes to usf, he lives aro..."
      ]
     },
     "execution_count": 3,
     "metadata": {},
     "output_type": "execute_result"
    }
   ],
   "source": [
    "df = df.drop([\"Unnamed: 2\", \"Unnamed: 3\", \"Unnamed: 4\"], axis=1)\n",
    "df = df.rename(columns={\"v1\":\"label\", \"v2\":\"sms_text\"})\n",
    "df.head()"
   ]
  },
  {
   "cell_type": "code",
   "execution_count": 4,
   "metadata": {},
   "outputs": [
    {
     "data": {
      "text/plain": [
       "ham     0.865937\n",
       "spam    0.134063\n",
       "Name: label, dtype: float64"
      ]
     },
     "execution_count": 4,
     "metadata": {},
     "output_type": "execute_result"
    }
   ],
   "source": [
    "df.label.value_counts(normalize=True)"
   ]
  },
  {
   "cell_type": "code",
   "execution_count": 5,
   "metadata": {},
   "outputs": [],
   "source": [
    "messages = pd.Series(df['sms_text'].tolist()).astype(str)\n",
    "ham_messages = pd.Series(df[df['label'] == 'ham']['sms_text'].tolist()).astype(str)\n",
    "spam_messages = pd.Series(df[df['label'] == 'spam']['sms_text'].tolist()).astype(str)\n",
    "\n",
    "# Create the corresponding distribution of character counts for each list.\n",
    "# We count the number of characters in each message using the `len` function.\n",
    "dist_all = messages.apply(len)\n",
    "dist_ham = ham_messages.apply(len)\n",
    "dist_spam = spam_messages.apply(len)"
   ]
  },
  {
   "cell_type": "code",
   "execution_count": 6,
   "metadata": {},
   "outputs": [
    {
     "name": "stderr",
     "output_type": "stream",
     "text": [
      "C:\\Users\\neeraj.kumar\\Documents\\Anaconda2019\\envs\\nj_tensorflow_gpu\\lib\\site-packages\\ipykernel_launcher.py:2: MatplotlibDeprecationWarning: \n",
      "The 'normed' kwarg was deprecated in Matplotlib 2.1 and will be removed in 3.1. Use 'density' instead.\n",
      "  \n"
     ]
    },
    {
     "name": "stdout",
     "output_type": "stream",
     "text": [
      "# Summary statistics for character count of all messages\n",
      "mean-all 80.12 \n",
      "std-all 59.69 \n",
      "min-all 2.00 \n",
      "max-all 910.00\n"
     ]
    },
    {
     "data": {
      "image/png": "[encoded data removed]",
      "text/plain": [
       "<Figure size 864x576 with 1 Axes>"
      ]
     },
     "metadata": {
      "needs_background": "light"
     },
     "output_type": "display_data"
    }
   ],
   "source": [
    "plt.figure(figsize=(12, 8))\n",
    "plt.hist(dist_all, bins=100, range=[0,400], color=pal[3], normed=True, label='All')\n",
    "plt.title('Normalised histogram of character count in all messages', fontsize=15)\n",
    "plt.legend()\n",
    "plt.xlabel('Number of characters', fontsize=15)\n",
    "plt.ylabel('Probability', fontsize=15)\n",
    "\n",
    "print('# Summary statistics for character count of all messages')\n",
    "print('mean-all {:.2f} \\nstd-all {:.2f} \\nmin-all {:.2f} \\nmax-all {:.2f}'.format(dist_all.mean(), \n",
    "                          dist_all.std(), dist_all.min(), dist_all.max()))"
   ]
  },
  {
   "cell_type": "code",
   "execution_count": 7,
   "metadata": {},
   "outputs": [
    {
     "name": "stderr",
     "output_type": "stream",
     "text": [
      "C:\\Users\\neeraj.kumar\\Documents\\Anaconda2019\\envs\\nj_tensorflow_gpu\\lib\\site-packages\\ipykernel_launcher.py:2: MatplotlibDeprecationWarning: \n",
      "The 'normed' kwarg was deprecated in Matplotlib 2.1 and will be removed in 3.1. Use 'density' instead.\n",
      "  \n",
      "C:\\Users\\neeraj.kumar\\Documents\\Anaconda2019\\envs\\nj_tensorflow_gpu\\lib\\site-packages\\ipykernel_launcher.py:3: MatplotlibDeprecationWarning: \n",
      "The 'normed' kwarg was deprecated in Matplotlib 2.1 and will be removed in 3.1. Use 'density' instead.\n",
      "  This is separate from the ipykernel package so we can avoid doing imports until\n"
     ]
    },
    {
     "name": "stdout",
     "output_type": "stream",
     "text": [
      "# Summary statistics for character count of ham vs spam messages\n",
      "mean-ham  71.02   mean-spam 138.87 \n",
      "std-ham   58.02   std-spam   29.18 \n",
      "min-ham    2.00   min-ham    13.00 \n",
      "max-ham  910.00   max-spam  224.00\n"
     ]
    },
    {
     "data": {
      "image/png": "[encoded data removed]",
      "text/plain": [
       "<Figure size 864x576 with 1 Axes>"
      ]
     },
     "metadata": {
      "needs_background": "light"
     },
     "output_type": "display_data"
    }
   ],
   "source": [
    "plt.figure(figsize=(12,8))\n",
    "plt.hist(dist_ham, bins=100, range=[0,250], color=pal[1], normed=True, label='ham')\n",
    "plt.hist(dist_spam, bins=100, range=[0, 250], color=pal[2], normed=True, alpha=0.5, label='spam')\n",
    "plt.title('Normalised histogram of character count in messages', fontsize=15)\n",
    "plt.legend()\n",
    "plt.xlabel('Number of characters', fontsize=15)\n",
    "plt.ylabel('Probability', fontsize=15)\n",
    "\n",
    "print('# Summary statistics for character count of ham vs spam messages')\n",
    "print('mean-ham  {:.2f}   mean-spam {:.2f} \\nstd-ham   {:.2f}   std-spam   {:.2f} \\nmin-ham    {:.2f}   min-ham    {:.2f} \\nmax-ham  {:.2f}   max-spam  {:.2f}'.format(dist_ham.mean(), \n",
    "                         dist_spam.mean(), dist_ham.std(), dist_spam.std(), dist_ham.min(), dist_spam.min(), dist_ham.max(), dist_spam.max()))"
   ]
  },
  {
   "cell_type": "code",
   "execution_count": 8,
   "metadata": {},
   "outputs": [],
   "source": [
    "dist_all = messages.apply(lambda x: len(x.split(' ')))\n",
    "dist_ham = ham_messages.apply(lambda x: len(x.split(' ')))\n",
    "dist_spam = spam_messages.apply(lambda x: len(x.split(' ')))"
   ]
  },
  {
   "cell_type": "code",
   "execution_count": 9,
   "metadata": {},
   "outputs": [
    {
     "name": "stderr",
     "output_type": "stream",
     "text": [
      "C:\\Users\\neeraj.kumar\\Documents\\Anaconda2019\\envs\\nj_tensorflow_gpu\\lib\\site-packages\\ipykernel_launcher.py:2: MatplotlibDeprecationWarning: \n",
      "The 'normed' kwarg was deprecated in Matplotlib 2.1 and will be removed in 3.1. Use 'density' instead.\n",
      "  \n"
     ]
    },
    {
     "name": "stdout",
     "output_type": "stream",
     "text": [
      "# Summary statistics for word count of all messages\n",
      "mean-all 15.61 \n",
      "std-all 11.42 \n",
      "min-all 1.00 \n",
      "max-all 171.00\n"
     ]
    },
    {
     "data": {
      "image/png": "[encoded data removed]",
      "text/plain": [
       "<Figure size 864x576 with 1 Axes>"
      ]
     },
     "metadata": {
      "needs_background": "light"
     },
     "output_type": "display_data"
    }
   ],
   "source": [
    "plt.figure(figsize=(12, 8))\n",
    "plt.hist(dist_all, bins=100, color=pal[3], normed=True, label='All')\n",
    "plt.title('Normalised histogram of word count in all messages', fontsize=15)\n",
    "plt.legend()\n",
    "plt.xlabel('Number of words', fontsize=15)\n",
    "plt.ylabel('Probability', fontsize=15)\n",
    "\n",
    "print('# Summary statistics for word count of all messages')\n",
    "print('mean-all {:.2f} \\nstd-all {:.2f} \\nmin-all {:.2f} \\nmax-all {:.2f}'.format(dist_all.mean(), \n",
    "                          dist_all.std(), dist_all.min(), dist_all.max()))"
   ]
  },
  {
   "cell_type": "code",
   "execution_count": 10,
   "metadata": {},
   "outputs": [
    {
     "name": "stderr",
     "output_type": "stream",
     "text": [
      "C:\\Users\\neeraj.kumar\\Documents\\Anaconda2019\\envs\\nj_tensorflow_gpu\\lib\\site-packages\\ipykernel_launcher.py:2: MatplotlibDeprecationWarning: \n",
      "The 'normed' kwarg was deprecated in Matplotlib 2.1 and will be removed in 3.1. Use 'density' instead.\n",
      "  \n",
      "C:\\Users\\neeraj.kumar\\Documents\\Anaconda2019\\envs\\nj_tensorflow_gpu\\lib\\site-packages\\ipykernel_launcher.py:3: MatplotlibDeprecationWarning: \n",
      "The 'normed' kwarg was deprecated in Matplotlib 2.1 and will be removed in 3.1. Use 'density' instead.\n",
      "  This is separate from the ipykernel package so we can avoid doing imports until\n"
     ]
    },
    {
     "name": "stdout",
     "output_type": "stream",
     "text": [
      "# Summary statistics for word count of ham vs spam messages\n",
      "mean-ham  14.32   mean-spam 23.89 \n",
      "std-ham   11.54   std-spam   5.83 \n",
      "min-ham    1.00   min-ham    2.00 \n",
      "max-ham  171.00   max-spam  35.00\n"
     ]
    },
    {
     "data": {
      "image/png": "[encoded data removed]",
      "text/plain": [
       "<Figure size 864x576 with 1 Axes>"
      ]
     },
     "metadata": {
      "needs_background": "light"
     },
     "output_type": "display_data"
    }
   ],
   "source": [
    "plt.figure(figsize=(12,8))\n",
    "plt.hist(dist_ham, bins=65, range=[0,75], color=pal[1], normed=True, label='ham')\n",
    "plt.hist(dist_spam, bins=65, range=[0, 75], color=pal[2], normed=True, alpha=0.5, label='spam')\n",
    "plt.title('Normalised histogram of word count in messages', fontsize=15)\n",
    "plt.legend()\n",
    "plt.xlabel('Number of words', fontsize=15)\n",
    "plt.ylabel('Probability', fontsize=15)\n",
    "\n",
    "print('# Summary statistics for word count of ham vs spam messages')\n",
    "print('mean-ham  {:.2f}   mean-spam {:.2f} \\nstd-ham   {:.2f}   std-spam   {:.2f} \\nmin-ham    {:.2f}   min-ham    {:.2f} \\nmax-ham  {:.2f}   max-spam  {:.2f}'.format(dist_ham.mean(), \n",
    "                         dist_spam.mean(), dist_ham.std(), dist_spam.std(), dist_ham.min(), dist_spam.min(), dist_ham.max(), dist_spam.max()))"
   ]
  },
  {
   "cell_type": "code",
   "execution_count": 11,
   "metadata": {},
   "outputs": [
    {
     "data": {
      "text/html": [
       "<div>\n",
       "<style scoped>\n",
       "    .dataframe tbody tr th:only-of-type {\n",
       "        vertical-align: middle;\n",
       "    }\n",
       "\n",
       "    .dataframe tbody tr th {\n",
       "        vertical-align: top;\n",
       "    }\n",
       "\n",
       "    .dataframe thead th {\n",
       "        text-align: right;\n",
       "    }\n",
       "</style>\n",
       "<table border=\"1\" class=\"dataframe\">\n",
       "  <thead>\n",
       "    <tr style=\"text-align: right;\">\n",
       "      <th></th>\n",
       "      <th>label</th>\n",
       "      <th>sms_text</th>\n",
       "      <th>word_count</th>\n",
       "      <th>char_count</th>\n",
       "      <th>is_spam</th>\n",
       "    </tr>\n",
       "  </thead>\n",
       "  <tbody>\n",
       "    <tr>\n",
       "      <th>0</th>\n",
       "      <td>ham</td>\n",
       "      <td>Go until jurong point, crazy.. Available only ...</td>\n",
       "      <td>20</td>\n",
       "      <td>111</td>\n",
       "      <td>False</td>\n",
       "    </tr>\n",
       "    <tr>\n",
       "      <th>1</th>\n",
       "      <td>ham</td>\n",
       "      <td>Ok lar... Joking wif u oni...</td>\n",
       "      <td>6</td>\n",
       "      <td>29</td>\n",
       "      <td>False</td>\n",
       "    </tr>\n",
       "    <tr>\n",
       "      <th>2</th>\n",
       "      <td>spam</td>\n",
       "      <td>Free entry in 2 a wkly comp to win FA Cup fina...</td>\n",
       "      <td>28</td>\n",
       "      <td>155</td>\n",
       "      <td>True</td>\n",
       "    </tr>\n",
       "    <tr>\n",
       "      <th>3</th>\n",
       "      <td>ham</td>\n",
       "      <td>U dun say so early hor... U c already then say...</td>\n",
       "      <td>11</td>\n",
       "      <td>49</td>\n",
       "      <td>False</td>\n",
       "    </tr>\n",
       "    <tr>\n",
       "      <th>4</th>\n",
       "      <td>ham</td>\n",
       "      <td>Nah I don't think he goes to usf, he lives aro...</td>\n",
       "      <td>13</td>\n",
       "      <td>61</td>\n",
       "      <td>False</td>\n",
       "    </tr>\n",
       "  </tbody>\n",
       "</table>\n",
       "</div>"
      ],
      "text/plain": [
       "  label                                           sms_text  word_count  \\\n",
       "0   ham  Go until jurong point, crazy.. Available only ...          20   \n",
       "1   ham                      Ok lar... Joking wif u oni...           6   \n",
       "2  spam  Free entry in 2 a wkly comp to win FA Cup fina...          28   \n",
       "3   ham  U dun say so early hor... U c already then say...          11   \n",
       "4   ham  Nah I don't think he goes to usf, he lives aro...          13   \n",
       "\n",
       "   char_count  is_spam  \n",
       "0         111    False  \n",
       "1          29    False  \n",
       "2         155     True  \n",
       "3          49    False  \n",
       "4          61    False  "
      ]
     },
     "execution_count": 11,
     "metadata": {},
     "output_type": "execute_result"
    }
   ],
   "source": [
    "# Add our features to our dataframe\n",
    "df['word_count'] = pd.Series(df['sms_text'].tolist()).astype(str).apply(lambda x: len(x.split(' ')))\n",
    "df['char_count'] = pd.Series(df['sms_text'].tolist()).astype(str).apply(len)\n",
    "\n",
    "# For some models the target label has to be int, float or bool\n",
    "df['is_spam'] = (df['label'] == 'spam')\n",
    "\n",
    "# Check things worked as expected\n",
    "df.head()"
   ]
  },
  {
   "cell_type": "code",
   "execution_count": 12,
   "metadata": {},
   "outputs": [],
   "source": [
    "from sklearn.model_selection import train_test_split\n",
    "\n",
    "X = df[['word_count', 'char_count']]\n",
    "y = df[['is_spam']]\n",
    "\n",
    "# Split data into training and test sets\n",
    "# TODO: Might want to split such that train and test sets have equal proportion of spam messages\n",
    "X_train, X_test, y_train, y_test = train_test_split(X, y, test_size=0.2, random_state=42)\n",
    "\n",
    "# Split some training data for validation\n",
    "X_train, X_valid, y_train, y_valid = train_test_split(X_train, y_train, test_size=0.2, random_state=42)"
   ]
  },
  {
   "cell_type": "code",
   "execution_count": 13,
   "metadata": {},
   "outputs": [
    {
     "name": "stdout",
     "output_type": "stream",
     "text": [
      "[0]\ttrain-error:0.077139\tvalid-error:0.067265\n",
      "Multiple eval metrics have been passed: 'valid-error' will be used for early stopping.\n",
      "\n",
      "Will train until valid-error hasn't improved in 50 rounds.\n",
      "[10]\ttrain-error:0.077139\tvalid-error:0.067265\n",
      "[20]\ttrain-error:0.076858\tvalid-error:0.067265\n",
      "[30]\ttrain-error:0.073773\tvalid-error:0.070628\n",
      "[40]\ttrain-error:0.070687\tvalid-error:0.071749\n",
      "[50]\ttrain-error:0.075175\tvalid-error:0.073991\n",
      "Stopping. Best iteration:\n",
      "[0]\ttrain-error:0.077139\tvalid-error:0.067265\n",
      "\n"
     ]
    }
   ],
   "source": [
    "import xgboost as xgb\n",
    "\n",
    "# Set our parameters for xgboost\n",
    "params = {}\n",
    "params['objective'] = 'binary:logistic'\n",
    "params['eval_metric'] = 'error'\n",
    "params['eta'] = 0.02\n",
    "params['max_depth'] = 4\n",
    "\n",
    "d_train = xgb.DMatrix(X_train, label=y_train)\n",
    "d_valid = xgb.DMatrix(X_valid, label=y_valid)\n",
    "\n",
    "watchlist = [(d_train, 'train'), (d_valid, 'valid')]\n",
    "\n",
    "bst = xgb.train(params, d_train, 400, watchlist, early_stopping_rounds=50, verbose_eval=10)"
   ]
  },
  {
   "cell_type": "code",
   "execution_count": 14,
   "metadata": {},
   "outputs": [
    {
     "name": "stdout",
     "output_type": "stream",
     "text": [
      "Test Accuracy:  0.9103139013452914\n"
     ]
    }
   ],
   "source": [
    "from sklearn.metrics import accuracy_score\n",
    "\n",
    "# Predict values for test set\n",
    "d_test = xgb.DMatrix(X_test)\n",
    "p_test = bst.predict(d_test)\n",
    "\n",
    "# Apply function round() to each element in np array\n",
    "# so predictions are all either 0 or 1.\n",
    "npround = np.vectorize(round)\n",
    "p_test_ints = npround(p_test)\n",
    "\n",
    "# Error rate for test set\n",
    "accuracy = accuracy_score(y_test, p_test_ints)\n",
    "print(\"Test Accuracy: \", accuracy)"
   ]
  },
  {
   "cell_type": "markdown",
   "metadata": {},
   "source": [
    "#### For Lightgbm"
   ]
  },
  {
   "cell_type": "code",
   "execution_count": 15,
   "metadata": {},
   "outputs": [],
   "source": [
    "y_validd = np.where(y_valid.is_spam==False,0,1 )\n",
    "y_trainn = np.where(y_train.is_spam==False,0,1 )\n",
    "y_testt = np.where(y_test.is_spam==False,0,1 )"
   ]
  },
  {
   "cell_type": "code",
   "execution_count": 16,
   "metadata": {},
   "outputs": [],
   "source": [
    "import lightgbm as lgb\n",
    "train_data = lgb.Dataset(X_train,\n",
    "                         label=(y_trainn.astype(int)),\n",
    "                        )\n",
    "param = {'num_leaves':60, 'objective':'binary','max_depth':4,'learning_rate':0.1,'max_bin':2000,\"is_unbalance\":True,\n",
    "        #\"categorical_feature\":[1,2,3,4,5,6,8,10,11,13,14,15,16,17,18],\n",
    "         'boost_from_average':True,'reg_sqrt':True,\n",
    "         \"boosting\":\"dart\",\n",
    "         \"use_missing\":True,\n",
    "         \"zero_as_missing\":True,          \n",
    "         #\"max_cat_to_onehot\":10,\n",
    "         \"top_k\":10000,\n",
    "         #\"cat_smooth\":10.0,\"cat_l2\":10\n",
    "        \"tree_learner\":\"data\",\n",
    "         \"min_child_weight\":1.1,\n",
    "         'sparse_threshold':0.8,\n",
    "         'is_enable_sparse':True,\n",
    "         'cat_smooth':10,\n",
    "         'cat_l2':10\n",
    "        }\n",
    "param['metric'] = ['auc', 'binary_logloss']\n",
    "num_round=5000\n",
    "lgb_eval = lgb.Dataset(X_valid,\n",
    "                       label=y_validd.astype(int),\n",
    "                      ) "
   ]
  },
  {
   "cell_type": "code",
   "execution_count": 17,
   "metadata": {},
   "outputs": [
    {
     "name": "stdout",
     "output_type": "stream",
     "text": [
      "[1]\tvalid_0's auc: 0.914126\tvalid_0's binary_logloss: 0.633031\n",
      "Training until validation scores don't improve for 10 rounds.\n",
      "[2]\tvalid_0's auc: 0.916324\tvalid_0's binary_logloss: 0.584148\n",
      "[3]\tvalid_0's auc: 0.915887\tvalid_0's binary_logloss: 0.544384\n",
      "[4]\tvalid_0's auc: 0.924716\tvalid_0's binary_logloss: 0.510573\n",
      "[5]\tvalid_0's auc: 0.927183\tvalid_0's binary_logloss: 0.481603\n",
      "[6]\tvalid_0's auc: 0.929632\tvalid_0's binary_logloss: 0.457235\n",
      "[7]\tvalid_0's auc: 0.92746\tvalid_0's binary_logloss: 0.437154\n",
      "[8]\tvalid_0's auc: 0.927447\tvalid_0's binary_logloss: 0.446235\n",
      "[9]\tvalid_0's auc: 0.929092\tvalid_0's binary_logloss: 0.42664\n",
      "[10]\tvalid_0's auc: 0.928751\tvalid_0's binary_logloss: 0.409725\n",
      "[11]\tvalid_0's auc: 0.93118\tvalid_0's binary_logloss: 0.394613\n",
      "[12]\tvalid_0's auc: 0.930615\tvalid_0's binary_logloss: 0.400295\n",
      "[13]\tvalid_0's auc: 0.930885\tvalid_0's binary_logloss: 0.38731\n",
      "[14]\tvalid_0's auc: 0.931174\tvalid_0's binary_logloss: 0.375235\n",
      "[15]\tvalid_0's auc: 0.932022\tvalid_0's binary_logloss: 0.364384\n",
      "[16]\tvalid_0's auc: 0.931598\tvalid_0's binary_logloss: 0.355497\n",
      "[17]\tvalid_0's auc: 0.931572\tvalid_0's binary_logloss: 0.346751\n",
      "[18]\tvalid_0's auc: 0.931412\tvalid_0's binary_logloss: 0.339983\n",
      "[19]\tvalid_0's auc: 0.931251\tvalid_0's binary_logloss: 0.333695\n",
      "[20]\tvalid_0's auc: 0.932478\tvalid_0's binary_logloss: 0.328826\n",
      "[21]\tvalid_0's auc: 0.932517\tvalid_0's binary_logloss: 0.330336\n",
      "[22]\tvalid_0's auc: 0.932992\tvalid_0's binary_logloss: 0.325678\n",
      "[23]\tvalid_0's auc: 0.933494\tvalid_0's binary_logloss: 0.321154\n",
      "[24]\tvalid_0's auc: 0.933294\tvalid_0's binary_logloss: 0.317296\n",
      "[25]\tvalid_0's auc: 0.933648\tvalid_0's binary_logloss: 0.313439\n",
      "[26]\tvalid_0's auc: 0.933198\tvalid_0's binary_logloss: 0.309969\n",
      "[27]\tvalid_0's auc: 0.932427\tvalid_0's binary_logloss: 0.307399\n",
      "[28]\tvalid_0's auc: 0.933121\tvalid_0's binary_logloss: 0.308759\n",
      "[29]\tvalid_0's auc: 0.933249\tvalid_0's binary_logloss: 0.30657\n",
      "[30]\tvalid_0's auc: 0.933481\tvalid_0's binary_logloss: 0.304735\n",
      "[31]\tvalid_0's auc: 0.933661\tvalid_0's binary_logloss: 0.304765\n",
      "[32]\tvalid_0's auc: 0.933635\tvalid_0's binary_logloss: 0.302527\n",
      "[33]\tvalid_0's auc: 0.933326\tvalid_0's binary_logloss: 0.3011\n",
      "[34]\tvalid_0's auc: 0.933339\tvalid_0's binary_logloss: 0.299618\n",
      "[35]\tvalid_0's auc: 0.933326\tvalid_0's binary_logloss: 0.300567\n",
      "[36]\tvalid_0's auc: 0.933281\tvalid_0's binary_logloss: 0.302021\n",
      "[37]\tvalid_0's auc: 0.933423\tvalid_0's binary_logloss: 0.299639\n",
      "[38]\tvalid_0's auc: 0.933037\tvalid_0's binary_logloss: 0.298227\n",
      "[39]\tvalid_0's auc: 0.933718\tvalid_0's binary_logloss: 0.296261\n",
      "[40]\tvalid_0's auc: 0.933731\tvalid_0's binary_logloss: 0.295765\n",
      "[41]\tvalid_0's auc: 0.93368\tvalid_0's binary_logloss: 0.296532\n",
      "[42]\tvalid_0's auc: 0.933654\tvalid_0's binary_logloss: 0.295329\n",
      "[43]\tvalid_0's auc: 0.933796\tvalid_0's binary_logloss: 0.2962\n",
      "[44]\tvalid_0's auc: 0.93386\tvalid_0's binary_logloss: 0.294703\n",
      "[45]\tvalid_0's auc: 0.93386\tvalid_0's binary_logloss: 0.293938\n",
      "[46]\tvalid_0's auc: 0.934322\tvalid_0's binary_logloss: 0.294709\n",
      "[47]\tvalid_0's auc: 0.9342\tvalid_0's binary_logloss: 0.293166\n",
      "[48]\tvalid_0's auc: 0.934535\tvalid_0's binary_logloss: 0.293348\n",
      "[49]\tvalid_0's auc: 0.934663\tvalid_0's binary_logloss: 0.294174\n",
      "[50]\tvalid_0's auc: 0.934502\tvalid_0's binary_logloss: 0.295233\n",
      "[51]\tvalid_0's auc: 0.9351\tvalid_0's binary_logloss: 0.293714\n",
      "[52]\tvalid_0's auc: 0.934753\tvalid_0's binary_logloss: 0.292634\n",
      "[53]\tvalid_0's auc: 0.934804\tvalid_0's binary_logloss: 0.293181\n",
      "[54]\tvalid_0's auc: 0.934824\tvalid_0's binary_logloss: 0.291955\n",
      "[55]\tvalid_0's auc: 0.93483\tvalid_0's binary_logloss: 0.291038\n",
      "[56]\tvalid_0's auc: 0.934894\tvalid_0's binary_logloss: 0.291775\n",
      "[57]\tvalid_0's auc: 0.935177\tvalid_0's binary_logloss: 0.290814\n",
      "[58]\tvalid_0's auc: 0.935061\tvalid_0's binary_logloss: 0.291493\n",
      "[59]\tvalid_0's auc: 0.935023\tvalid_0's binary_logloss: 0.292375\n",
      "[60]\tvalid_0's auc: 0.934612\tvalid_0's binary_logloss: 0.291738\n",
      "[61]\tvalid_0's auc: 0.93447\tvalid_0's binary_logloss: 0.292368\n",
      "[62]\tvalid_0's auc: 0.934727\tvalid_0's binary_logloss: 0.291484\n",
      "[63]\tvalid_0's auc: 0.935074\tvalid_0's binary_logloss: 0.290547\n",
      "[64]\tvalid_0's auc: 0.935023\tvalid_0's binary_logloss: 0.291006\n",
      "[65]\tvalid_0's auc: 0.934984\tvalid_0's binary_logloss: 0.291669\n",
      "[66]\tvalid_0's auc: 0.935524\tvalid_0's binary_logloss: 0.290133\n",
      "[67]\tvalid_0's auc: 0.936025\tvalid_0's binary_logloss: 0.28864\n",
      "[68]\tvalid_0's auc: 0.936064\tvalid_0's binary_logloss: 0.288055\n",
      "[69]\tvalid_0's auc: 0.935768\tvalid_0's binary_logloss: 0.288591\n",
      "[70]\tvalid_0's auc: 0.935833\tvalid_0's binary_logloss: 0.288961\n",
      "[71]\tvalid_0's auc: 0.935833\tvalid_0's binary_logloss: 0.289528\n",
      "[72]\tvalid_0's auc: 0.935704\tvalid_0's binary_logloss: 0.288907\n",
      "[73]\tvalid_0's auc: 0.93564\tvalid_0's binary_logloss: 0.288585\n",
      "[74]\tvalid_0's auc: 0.935704\tvalid_0's binary_logloss: 0.28886\n",
      "[75]\tvalid_0's auc: 0.93582\tvalid_0's binary_logloss: 0.288151\n",
      "[76]\tvalid_0's auc: 0.935897\tvalid_0's binary_logloss: 0.28818\n",
      "[77]\tvalid_0's auc: 0.935781\tvalid_0's binary_logloss: 0.288459\n",
      "[78]\tvalid_0's auc: 0.935627\tvalid_0's binary_logloss: 0.288757\n",
      "Early stopping, best iteration is:\n",
      "[68]\tvalid_0's auc: 0.936064\tvalid_0's binary_logloss: 0.288055\n"
     ]
    }
   ],
   "source": [
    "lgg =lgb.train(param,\n",
    "                train_data,\n",
    "                num_boost_round=num_round,\n",
    "                valid_sets=lgb_eval\n",
    "               ,early_stopping_rounds=10\n",
    "               \n",
    "              )"
   ]
  },
  {
   "cell_type": "code",
   "execution_count": 18,
   "metadata": {
    "scrolled": true
   },
   "outputs": [],
   "source": [
    "# Predict values for test set\n",
    "lg_pred = pd.DataFrame(lgg.predict(X_test))\n",
    "lg_pred.index = X_test.index\n",
    "y_testt = pd.DataFrame(y_testt)\n",
    "y_testt.index = X_test.index\n",
    "y_testt = y_testt.rename(columns = {0:'is_spam'})\n",
    "lg_pred = lg_pred.rename(columns = {0:'Pred'})\n",
    "finalss = pd.concat([lg_pred,y_testt],axis = 1)\n"
   ]
  },
  {
   "cell_type": "code",
   "execution_count": 19,
   "metadata": {},
   "outputs": [
    {
     "data": {
      "text/html": [
       "<div>\n",
       "<style scoped>\n",
       "    .dataframe tbody tr th:only-of-type {\n",
       "        vertical-align: middle;\n",
       "    }\n",
       "\n",
       "    .dataframe tbody tr th {\n",
       "        vertical-align: top;\n",
       "    }\n",
       "\n",
       "    .dataframe thead th {\n",
       "        text-align: right;\n",
       "    }\n",
       "</style>\n",
       "<table border=\"1\" class=\"dataframe\">\n",
       "  <thead>\n",
       "    <tr style=\"text-align: right;\">\n",
       "      <th></th>\n",
       "      <th>Pred</th>\n",
       "      <th>is_spam</th>\n",
       "    </tr>\n",
       "  </thead>\n",
       "  <tbody>\n",
       "    <tr>\n",
       "      <th>3245</th>\n",
       "      <td>0.910107</td>\n",
       "      <td>0</td>\n",
       "    </tr>\n",
       "    <tr>\n",
       "      <th>944</th>\n",
       "      <td>0.033781</td>\n",
       "      <td>0</td>\n",
       "    </tr>\n",
       "    <tr>\n",
       "      <th>1044</th>\n",
       "      <td>0.600041</td>\n",
       "      <td>1</td>\n",
       "    </tr>\n",
       "    <tr>\n",
       "      <th>2484</th>\n",
       "      <td>0.240176</td>\n",
       "      <td>0</td>\n",
       "    </tr>\n",
       "    <tr>\n",
       "      <th>812</th>\n",
       "      <td>0.925275</td>\n",
       "      <td>1</td>\n",
       "    </tr>\n",
       "  </tbody>\n",
       "</table>\n",
       "</div>"
      ],
      "text/plain": [
       "          Pred  is_spam\n",
       "3245  0.910107        0\n",
       "944   0.033781        0\n",
       "1044  0.600041        1\n",
       "2484  0.240176        0\n",
       "812   0.925275        1"
      ]
     },
     "execution_count": 19,
     "metadata": {},
     "output_type": "execute_result"
    }
   ],
   "source": [
    "finalss.head()"
   ]
  },
  {
   "cell_type": "code",
   "execution_count": 20,
   "metadata": {
    "scrolled": true
   },
   "outputs": [
    {
     "name": "stdout",
     "output_type": "stream",
     "text": [
      "Predicted    0    1\n",
      "Actual             \n",
      "0          855  110\n",
      "1           19  131\n"
     ]
    }
   ],
   "source": [
    "finalss['Pred'] = np.where(finalss['Pred']>0.50,1,0)\n",
    "confusion_matrix = pd.crosstab(finalss['is_spam'], finalss['Pred'], rownames=['Actual'], colnames=['Predicted'])\n",
    "print (confusion_matrix)"
   ]
  },
  {
   "cell_type": "code",
   "execution_count": 21,
   "metadata": {},
   "outputs": [
    {
     "data": {
      "text/plain": [
       "0.8796718480138169"
      ]
     },
     "execution_count": 21,
     "metadata": {},
     "output_type": "execute_result"
    }
   ],
   "source": [
    "from sklearn.metrics import roc_auc_score\n",
    "roc_auc_score(finalss['is_spam'], finalss['Pred'].astype(int))"
   ]
  },
  {
   "cell_type": "code",
   "execution_count": 22,
   "metadata": {},
   "outputs": [
    {
     "name": "stdout",
     "output_type": "stream",
     "text": [
      "Test Accuracy:  0.884304932735426\n"
     ]
    }
   ],
   "source": [
    "# Error rate for test set\n",
    "accuracy = accuracy_score(y_test, finalss['Pred'])\n",
    "print(\"Test Accuracy: \", accuracy)"
   ]
  },
  {
   "cell_type": "markdown",
   "metadata": {},
   "source": [
    "#### Lets improve the above model"
   ]
  },
  {
   "cell_type": "code",
   "execution_count": 23,
   "metadata": {},
   "outputs": [
    {
     "name": "stderr",
     "output_type": "stream",
     "text": [
      "[nltk_data] Downloading package maxent_ne_chunker to\n",
      "[nltk_data]     C:\\Users\\neeraj.kumar\\AppData\\Roaming\\nltk_data...\n",
      "[nltk_data]   Package maxent_ne_chunker is already up-to-date!\n",
      "[nltk_data] Downloading package words to\n",
      "[nltk_data]     C:\\Users\\neeraj.kumar\\AppData\\Roaming\\nltk_data...\n",
      "[nltk_data]   Package words is already up-to-date!\n",
      "[nltk_data] Downloading package stopwords to\n",
      "[nltk_data]     C:\\Users\\neeraj.kumar\\AppData\\Roaming\\nltk_data...\n",
      "[nltk_data]   Package stopwords is already up-to-date!\n"
     ]
    }
   ],
   "source": [
    "import nltk\n",
    "import re\n",
    "from nltk.tokenize import RegexpTokenizer\n",
    "nltk.download('maxent_ne_chunker')\n",
    "nltk.download('words')\n",
    "from nltk.corpus import stopwords\n",
    "nltk.download('stopwords')\n",
    "stop=stopwords.words('english')\n",
    "punct_mapping = {\"‘\": \"'\", \"₹\": \"e\", \"´\": \"'\", \"°\": \"\", \"€\": \"e\", \"™️\": \"tm\", \"√\": \" sqrt \", \"×\": \"x\", \"²\": \"2\", \"—\": \"-\", \"–\": \"-\", \"’\": \"'\", \"_\": \"-\", \"`\": \"'\", '“': '\"', '”': '\"', '“': '\"', \"£\": \"e\", '∞': 'infinity', 'θ': 'theta', '÷': '/', 'α': 'alpha', '•': '.', 'à': 'a', '−': '-', 'β': 'beta', '∅': '', '³': '3', 'π': 'pi', }\n",
    "\n",
    "punct = \"/-'?!.,#$%\\'()*+-/:;<=>@[\\\\]^_`{|}~\" + '\"\"“”’' + '∞θ÷α•à−β∅³π‘₹´°£€\\×™️√²—–&'\n",
    "\n",
    "def clean_special_chars(text, punct, mapping):\n",
    "    for p in mapping:\n",
    "        text = text.replace(p, mapping[p])\n",
    "    \n",
    "    for p in punct:\n",
    "        text = text.replace(p, f' {p} ')    \n",
    "    return text\n",
    "\n",
    "\n",
    "def numeric_remove(s):\n",
    "    output = re.sub(\"^\\d+\\s|\\s\\d+\\s|\\s\\d+$\", \" \", s)\n",
    "    output = re.sub('^[0-9]+', '', output)\n",
    "    output = re.sub('[^A-Za-z]', ' ', output)\n",
    "    return output\n",
    "def preprocess(sentence):\n",
    "    sentence = sentence.lower()\n",
    "    tokenizer = RegexpTokenizer(r'\\w+')\n",
    "    tokens = tokenizer.tokenize(sentence)\n",
    "    #stopset = set(stopwords.words('english'))\n",
    "    #filtered_words = filter(lambda token: token not in stopset, tokens)\n",
    "    filtered_words =(' '.join([word for word in sentence.split() if word not in (tokens)]))\n",
    "    return \" \".join(filtered_words)\n",
    "df['sms_text'] = df['sms_text'].replace('nan', 'none')\n",
    "df['sms_text'] = df['sms_text'].fillna('none')\n",
    "df.loc[:, 'sms_text']= [x.encode('utf8') for x in df.loc[:,'sms_text'].astype(str)]\n",
    "df.loc[:, 'sms_text']= df.loc[:, 'sms_text'].str.decode(\"utf-8\")\n",
    "df.loc[:, 'sms_text'] = df.loc[:, 'sms_text'].str.lower()\n",
    "#df['sms_text'] =df['sms_text'].apply(lambda x: clean_special_chars(x, punct, punct_mapping))\n",
    "### Bert Embedding.\n",
    "from bert_serving.client import BertClient\n",
    "bc = BertClient(check_length=False)\n",
    "bc_vector = bc.encode(list(df.sms_text.values))\n",
    "bc_df = pd.DataFrame(bc_vector)\n",
    "bc_df.index = df.index\n",
    "df = pd.concat([df, bc_df], axis = 1)"
   ]
  },
  {
   "cell_type": "code",
   "execution_count": 24,
   "metadata": {},
   "outputs": [],
   "source": [
    "X = df\n",
    "y = df[['is_spam']]\n",
    "\n",
    "# Split data into training and test sets\n",
    "# TODO: Might want to split such that train and test sets have equal proportion of spam messages\n",
    "X_train, X_test, y_train, y_test = train_test_split(X, y, test_size=0.2, random_state=42)\n",
    "\n",
    "ham_messages_train = pd.Series(X_train[X_train['label'] == 'ham']['sms_text'].tolist()).astype(str)\n",
    "spam_messages_train = pd.Series(X_train[X_train['label'] == 'spam']['sms_text'].tolist()).astype(str)"
   ]
  },
  {
   "cell_type": "markdown",
   "metadata": {},
   "source": [
    "### Visualize the words important in both and ham and spam subsets."
   ]
  },
  {
   "cell_type": "code",
   "execution_count": 25,
   "metadata": {},
   "outputs": [
    {
     "data": {
      "text/plain": [
       "<matplotlib.image.AxesImage at 0x1bc538d0c18>"
      ]
     },
     "execution_count": 25,
     "metadata": {},
     "output_type": "execute_result"
    },
    {
     "data": {
      "image/png": "[encoded data removed]",
      "text/plain": [
       "<Figure size 864x576 with 1 Axes>"
      ]
     },
     "metadata": {
      "needs_background": "light"
     },
     "output_type": "display_data"
    }
   ],
   "source": [
    "from wordcloud import WordCloud\n",
    "# WordCloud automatically excludes stop words\n",
    "\n",
    "# Draw word cloud for spam messages\n",
    "spam_messages_one_string = \" \".join(spam_messages_train.astype(str))\n",
    "spam_cloud = WordCloud().generate(spam_messages_one_string)\n",
    "plt.figure(figsize=(12,8))\n",
    "plt.imshow(spam_cloud)"
   ]
  },
  {
   "cell_type": "code",
   "execution_count": 26,
   "metadata": {},
   "outputs": [
    {
     "data": {
      "text/plain": [
       "<matplotlib.image.AxesImage at 0x1bc56d1d7b8>"
      ]
     },
     "execution_count": 26,
     "metadata": {},
     "output_type": "execute_result"
    },
    {
     "data": {
      "image/png": "[encoded data removed]",
      "text/plain": [
       "<Figure size 864x576 with 1 Axes>"
      ]
     },
     "metadata": {
      "needs_background": "light"
     },
     "output_type": "display_data"
    }
   ],
   "source": [
    "ham_messages_one_string = \" \".join(ham_messages_train.astype(str))\n",
    "ham_cloud = WordCloud().generate(ham_messages_one_string)\n",
    "plt.figure(figsize=(12,8))\n",
    "plt.imshow(ham_cloud)"
   ]
  },
  {
   "cell_type": "code",
   "execution_count": 27,
   "metadata": {},
   "outputs": [
    {
     "name": "stdout",
     "output_type": "stream",
     "text": [
      "Total number of words in ham messages:  54545\n"
     ]
    },
    {
     "data": {
      "text/plain": [
       "[('i', 1749),\n",
       " ('you', 1287),\n",
       " ('to', 1262),\n",
       " ('the', 882),\n",
       " ('a', 843),\n",
       " ('u', 730),\n",
       " ('and', 657),\n",
       " ('in', 627),\n",
       " ('my', 585),\n",
       " ('is', 565),\n",
       " ('me', 462),\n",
       " ('of', 413),\n",
       " ('for', 402),\n",
       " ('have', 343),\n",
       " ('that', 341),\n",
       " ('your', 334),\n",
       " ('it', 327),\n",
       " ('so', 319),\n",
       " ('but', 319),\n",
       " ('are', 316),\n",
       " ('at', 313),\n",
       " ('not', 307),\n",
       " (\"i'm\", 298),\n",
       " ('on', 298),\n",
       " ('if', 276)]"
      ]
     },
     "execution_count": 27,
     "metadata": {},
     "output_type": "execute_result"
    }
   ],
   "source": [
    "from collections import Counter\n",
    "ham_words_list = ham_messages_one_string.split()\n",
    "total_ham_words = len(ham_words_list)\n",
    "print(\"Total number of words in ham messages: \", total_ham_words)\n",
    "ham_words_dict = Counter(ham_words_list).most_common()\n",
    "ham_words_dict[:25]"
   ]
  },
  {
   "cell_type": "code",
   "execution_count": 28,
   "metadata": {},
   "outputs": [
    {
     "name": "stdout",
     "output_type": "stream",
     "text": [
      "Total number of words in spam messages:  14280\n"
     ]
    },
    {
     "data": {
      "text/plain": [
       "[('to', 549),\n",
       " ('a', 301),\n",
       " ('call', 269),\n",
       " ('your', 214),\n",
       " ('you', 201),\n",
       " ('for', 163),\n",
       " ('the', 162),\n",
       " ('or', 154),\n",
       " ('free', 146),\n",
       " ('2', 138),\n",
       " ('is', 123),\n",
       " ('ur', 115),\n",
       " ('on', 114),\n",
       " ('txt', 111),\n",
       " ('have', 108),\n",
       " ('from', 105),\n",
       " ('and', 95),\n",
       " ('u', 92),\n",
       " ('claim', 88),\n",
       " ('mobile', 88),\n",
       " ('with', 86),\n",
       " ('text', 82),\n",
       " ('&', 82),\n",
       " ('reply', 80),\n",
       " ('now', 74)]"
      ]
     },
     "execution_count": 28,
     "metadata": {},
     "output_type": "execute_result"
    }
   ],
   "source": [
    "spam_words_list = spam_messages_one_string.split()\n",
    "total_spam_words = len(spam_words_list)\n",
    "print(\"Total number of words in spam messages: \", total_spam_words)\n",
    "spam_words_dict = Counter(spam_words_list).most_common()\n",
    "spam_words_dict[:25]"
   ]
  },
  {
   "cell_type": "code",
   "execution_count": 29,
   "metadata": {},
   "outputs": [
    {
     "data": {
      "text/plain": [
       "[('u', 730),\n",
       " (\"i'm\", 298),\n",
       " ('&lt;#&gt;', 234),\n",
       " ('get', 225),\n",
       " ('2', 224),\n",
       " ('ur', 199),\n",
       " ('go', 196),\n",
       " ('.', 188),\n",
       " ('got', 188),\n",
       " ('come', 173),\n",
       " ('call', 172),\n",
       " ('like', 169),\n",
       " ('know', 164),\n",
       " ('?', 153),\n",
       " ('good', 150),\n",
       " ('...', 141),\n",
       " ('going', 135),\n",
       " ('ok', 128),\n",
       " ('4', 126),\n",
       " (\"i'll\", 126),\n",
       " ('love', 121),\n",
       " ('still', 120),\n",
       " ('want', 119),\n",
       " ('time', 119),\n",
       " ('one', 116)]"
      ]
     },
     "execution_count": 29,
     "metadata": {},
     "output_type": "execute_result"
    }
   ],
   "source": [
    "from nltk.corpus import stopwords\n",
    "from collections import defaultdict\n",
    "import operator\n",
    "\n",
    "stopwords = set(stopwords.words(\"english\"))\n",
    "\n",
    "ham_words_lowercase = ham_messages_one_string.lower().split()\n",
    "\n",
    "ham_words_nostop = []\n",
    "for word in ham_words_lowercase:\n",
    "    if word not in stopwords:\n",
    "        ham_words_nostop.append(word)\n",
    "\n",
    "ham_words_freq = Counter(ham_words_nostop).most_common()\n",
    "ham_words_freq[:25]"
   ]
  },
  {
   "cell_type": "code",
   "execution_count": 30,
   "metadata": {},
   "outputs": [
    {
     "data": {
      "text/plain": [
       "[('call', 269),\n",
       " ('free', 146),\n",
       " ('2', 138),\n",
       " ('ur', 115),\n",
       " ('txt', 111),\n",
       " ('u', 92),\n",
       " ('claim', 88),\n",
       " ('mobile', 88),\n",
       " ('text', 82),\n",
       " ('&', 82),\n",
       " ('reply', 80),\n",
       " ('4', 74),\n",
       " ('get', 71),\n",
       " ('stop', 71),\n",
       " ('now!', 56),\n",
       " ('new', 54),\n",
       " ('nokia', 51),\n",
       " ('send', 49),\n",
       " ('cash', 48),\n",
       " ('prize', 47),\n",
       " ('please', 45),\n",
       " ('win', 44),\n",
       " ('-', 43),\n",
       " ('contact', 40),\n",
       " ('per', 38)]"
      ]
     },
     "execution_count": 30,
     "metadata": {},
     "output_type": "execute_result"
    }
   ],
   "source": [
    "spam_words_lowercase = spam_messages_one_string.lower().split()\n",
    "\n",
    "spam_words_nostop = []\n",
    "for word in spam_words_lowercase:\n",
    "    if word not in stopwords:\n",
    "        spam_words_nostop.append(word)\n",
    "\n",
    "spam_words_freq = Counter(spam_words_nostop).most_common()\n",
    "spam_words_top25 = spam_words_freq[:25]\n",
    "spam_words_top25"
   ]
  },
  {
   "cell_type": "code",
   "execution_count": 31,
   "metadata": {},
   "outputs": [],
   "source": [
    "spam_words_top25_list = [tuple[0] for tuple in spam_words_top25]\n",
    "ham_words_top25 = [tuple[0] for tuple in ham_words_freq[:25]]"
   ]
  },
  {
   "cell_type": "code",
   "execution_count": 32,
   "metadata": {},
   "outputs": [
    {
     "name": "stdout",
     "output_type": "stream",
     "text": [
      "Number of non-duplicates in each list:  19\n"
     ]
    }
   ],
   "source": [
    "spam_words_top25_pruned = []\n",
    "for word in spam_words_top25_list:\n",
    "    if word not in ham_words_top25:\n",
    "        spam_words_top25_pruned.append(word)\n",
    "        \n",
    "ham_words_top25_pruned = []\n",
    "for word in ham_words_top25:\n",
    "    if word not in spam_words_top25_list:\n",
    "        ham_words_top25_pruned.append(word)\n",
    "\n",
    "print(\"Number of non-duplicates in each list: \", len(spam_words_top25_pruned))"
   ]
  },
  {
   "cell_type": "code",
   "execution_count": 33,
   "metadata": {
    "scrolled": true
   },
   "outputs": [
    {
     "name": "stderr",
     "output_type": "stream",
     "text": [
      "C:\\Users\\neeraj.kumar\\Documents\\Anaconda2019\\envs\\nj_tensorflow_gpu\\lib\\site-packages\\ipykernel_launcher.py:3: SettingWithCopyWarning: \n",
      "A value is trying to be set on a copy of a slice from a DataFrame.\n",
      "Try using .loc[row_indexer,col_indexer] = value instead\n",
      "\n",
      "See the caveats in the documentation: http://pandas.pydata.org/pandas-docs/stable/indexing.html#indexing-view-versus-copy\n",
      "  This is separate from the ipykernel package so we can avoid doing imports until\n",
      "C:\\Users\\neeraj.kumar\\Documents\\Anaconda2019\\envs\\nj_tensorflow_gpu\\lib\\site-packages\\ipykernel_launcher.py:4: SettingWithCopyWarning: \n",
      "A value is trying to be set on a copy of a slice from a DataFrame.\n",
      "Try using .loc[row_indexer,col_indexer] = value instead\n",
      "\n",
      "See the caveats in the documentation: http://pandas.pydata.org/pandas-docs/stable/indexing.html#indexing-view-versus-copy\n",
      "  after removing the cwd from sys.path.\n"
     ]
    },
    {
     "data": {
      "text/html": [
       "<div>\n",
       "<style scoped>\n",
       "    .dataframe tbody tr th:only-of-type {\n",
       "        vertical-align: middle;\n",
       "    }\n",
       "\n",
       "    .dataframe tbody tr th {\n",
       "        vertical-align: top;\n",
       "    }\n",
       "\n",
       "    .dataframe thead th {\n",
       "        text-align: right;\n",
       "    }\n",
       "</style>\n",
       "<table border=\"1\" class=\"dataframe\">\n",
       "  <thead>\n",
       "    <tr style=\"text-align: right;\">\n",
       "      <th></th>\n",
       "      <th>label</th>\n",
       "      <th>sms_text</th>\n",
       "      <th>word_count</th>\n",
       "      <th>char_count</th>\n",
       "      <th>is_spam</th>\n",
       "      <th>0</th>\n",
       "      <th>1</th>\n",
       "      <th>2</th>\n",
       "      <th>3</th>\n",
       "      <th>4</th>\n",
       "      <th>...</th>\n",
       "      <th>good</th>\n",
       "      <th>...</th>\n",
       "      <th>going</th>\n",
       "      <th>ok</th>\n",
       "      <th>i'll</th>\n",
       "      <th>love</th>\n",
       "      <th>still</th>\n",
       "      <th>want</th>\n",
       "      <th>time</th>\n",
       "      <th>one</th>\n",
       "    </tr>\n",
       "  </thead>\n",
       "  <tbody>\n",
       "    <tr>\n",
       "      <th>0</th>\n",
       "      <td>ham</td>\n",
       "      <td>go until jurong point, crazy.. available only ...</td>\n",
       "      <td>20</td>\n",
       "      <td>111</td>\n",
       "      <td>False</td>\n",
       "      <td>0.110996</td>\n",
       "      <td>-0.060531</td>\n",
       "      <td>0.383131</td>\n",
       "      <td>0.166388</td>\n",
       "      <td>0.006478</td>\n",
       "      <td>...</td>\n",
       "      <td>False</td>\n",
       "      <td>False</td>\n",
       "      <td>False</td>\n",
       "      <td>False</td>\n",
       "      <td>False</td>\n",
       "      <td>False</td>\n",
       "      <td>False</td>\n",
       "      <td>False</td>\n",
       "      <td>False</td>\n",
       "      <td>False</td>\n",
       "    </tr>\n",
       "    <tr>\n",
       "      <th>1</th>\n",
       "      <td>ham</td>\n",
       "      <td>ok lar... joking wif u oni...</td>\n",
       "      <td>6</td>\n",
       "      <td>29</td>\n",
       "      <td>False</td>\n",
       "      <td>0.347431</td>\n",
       "      <td>-0.194561</td>\n",
       "      <td>0.274425</td>\n",
       "      <td>0.101778</td>\n",
       "      <td>-0.113944</td>\n",
       "      <td>...</td>\n",
       "      <td>False</td>\n",
       "      <td>False</td>\n",
       "      <td>False</td>\n",
       "      <td>False</td>\n",
       "      <td>False</td>\n",
       "      <td>False</td>\n",
       "      <td>False</td>\n",
       "      <td>False</td>\n",
       "      <td>False</td>\n",
       "      <td>False</td>\n",
       "    </tr>\n",
       "    <tr>\n",
       "      <th>2</th>\n",
       "      <td>spam</td>\n",
       "      <td>free entry in 2 a wkly comp to win fa cup fina...</td>\n",
       "      <td>28</td>\n",
       "      <td>155</td>\n",
       "      <td>True</td>\n",
       "      <td>0.084365</td>\n",
       "      <td>-0.257745</td>\n",
       "      <td>0.231277</td>\n",
       "      <td>0.127906</td>\n",
       "      <td>-0.077953</td>\n",
       "      <td>...</td>\n",
       "      <td>False</td>\n",
       "      <td>False</td>\n",
       "      <td>False</td>\n",
       "      <td>False</td>\n",
       "      <td>False</td>\n",
       "      <td>False</td>\n",
       "      <td>False</td>\n",
       "      <td>False</td>\n",
       "      <td>False</td>\n",
       "      <td>False</td>\n",
       "    </tr>\n",
       "    <tr>\n",
       "      <th>3</th>\n",
       "      <td>ham</td>\n",
       "      <td>u dun say so early hor... u c already then say...</td>\n",
       "      <td>11</td>\n",
       "      <td>49</td>\n",
       "      <td>False</td>\n",
       "      <td>-0.038826</td>\n",
       "      <td>-0.020492</td>\n",
       "      <td>0.577905</td>\n",
       "      <td>0.128281</td>\n",
       "      <td>0.296385</td>\n",
       "      <td>...</td>\n",
       "      <td>False</td>\n",
       "      <td>False</td>\n",
       "      <td>False</td>\n",
       "      <td>False</td>\n",
       "      <td>False</td>\n",
       "      <td>False</td>\n",
       "      <td>False</td>\n",
       "      <td>False</td>\n",
       "      <td>False</td>\n",
       "      <td>False</td>\n",
       "    </tr>\n",
       "    <tr>\n",
       "      <th>4</th>\n",
       "      <td>ham</td>\n",
       "      <td>nah i don't think he goes to usf, he lives aro...</td>\n",
       "      <td>13</td>\n",
       "      <td>61</td>\n",
       "      <td>False</td>\n",
       "      <td>0.317802</td>\n",
       "      <td>0.299021</td>\n",
       "      <td>0.135326</td>\n",
       "      <td>0.199348</td>\n",
       "      <td>0.171694</td>\n",
       "      <td>...</td>\n",
       "      <td>False</td>\n",
       "      <td>False</td>\n",
       "      <td>False</td>\n",
       "      <td>False</td>\n",
       "      <td>False</td>\n",
       "      <td>False</td>\n",
       "      <td>False</td>\n",
       "      <td>False</td>\n",
       "      <td>False</td>\n",
       "      <td>False</td>\n",
       "    </tr>\n",
       "  </tbody>\n",
       "</table>\n",
       "<p>5 rows × 811 columns</p>\n",
       "</div>"
      ],
      "text/plain": [
       "  label                                           sms_text  word_count  \\\n",
       "0   ham  go until jurong point, crazy.. available only ...          20   \n",
       "1   ham                      ok lar... joking wif u oni...           6   \n",
       "2  spam  free entry in 2 a wkly comp to win fa cup fina...          28   \n",
       "3   ham  u dun say so early hor... u c already then say...          11   \n",
       "4   ham  nah i don't think he goes to usf, he lives aro...          13   \n",
       "\n",
       "   char_count  is_spam         0         1         2         3         4  ...  \\\n",
       "0         111    False  0.110996 -0.060531  0.383131  0.166388  0.006478  ...   \n",
       "1          29    False  0.347431 -0.194561  0.274425  0.101778 -0.113944  ...   \n",
       "2         155     True  0.084365 -0.257745  0.231277  0.127906 -0.077953  ...   \n",
       "3          49    False -0.038826 -0.020492  0.577905  0.128281  0.296385  ...   \n",
       "4          61    False  0.317802  0.299021  0.135326  0.199348  0.171694  ...   \n",
       "\n",
       "    good    ...  going     ok   i'll   love  still   want   time    one  \n",
       "0  False  False  False  False  False  False  False  False  False  False  \n",
       "1  False  False  False  False  False  False  False  False  False  False  \n",
       "2  False  False  False  False  False  False  False  False  False  False  \n",
       "3  False  False  False  False  False  False  False  False  False  False  \n",
       "4  False  False  False  False  False  False  False  False  False  False  \n",
       "\n",
       "[5 rows x 811 columns]"
      ]
     },
     "execution_count": 33,
     "metadata": {},
     "output_type": "execute_result"
    }
   ],
   "source": [
    "for word in (spam_words_top25_pruned + ham_words_top25_pruned):\n",
    "    df[word] = (word in df['sms_text'])\n",
    "    X_train[word] = (word in X_train['sms_text'])\n",
    "    X_test[word] = (word in X_test['sms_text'])\n",
    "df.head()\n"
   ]
  },
  {
   "cell_type": "markdown",
   "metadata": {},
   "source": [
    "### Make sure to remove variable that we are going to predict, i.e. label and is_spam feature."
   ]
  },
  {
   "cell_type": "code",
   "execution_count": 34,
   "metadata": {},
   "outputs": [],
   "source": [
    "del X_train['sms_text']\n",
    "del X_train['label']\n",
    "del X_test['sms_text']\n",
    "del X_test['label']\n",
    "del X_train['is_spam']\n",
    "del X_test['is_spam']\n",
    "# Split some training data for validation\n",
    "X_train, X_valid, y_train, y_valid = train_test_split(X_train, y_train, test_size=0.2, random_state=42)"
   ]
  },
  {
   "cell_type": "markdown",
   "metadata": {},
   "source": [
    "> ###  Apply both XGboost and Lightgbm and compare results."
   ]
  },
  {
   "cell_type": "code",
   "execution_count": 35,
   "metadata": {},
   "outputs": [
    {
     "name": "stdout",
     "output_type": "stream",
     "text": [
      "[0]\ttrain-error:0.036185\tvalid-error:0.056054\n",
      "Multiple eval metrics have been passed: 'valid-error' will be used for early stopping.\n",
      "\n",
      "Will train until valid-error hasn't improved in 50 rounds.\n",
      "[10]\ttrain-error:0.02216\tvalid-error:0.036996\n",
      "[20]\ttrain-error:0.019355\tvalid-error:0.03139\n",
      "[30]\ttrain-error:0.017391\tvalid-error:0.034753\n",
      "[40]\ttrain-error:0.016269\tvalid-error:0.030269\n",
      "[50]\ttrain-error:0.014867\tvalid-error:0.030269\n",
      "[60]\ttrain-error:0.013184\tvalid-error:0.023543\n",
      "[70]\ttrain-error:0.01122\tvalid-error:0.023543\n",
      "[80]\ttrain-error:0.01094\tvalid-error:0.025785\n",
      "[90]\ttrain-error:0.010659\tvalid-error:0.024664\n",
      "[100]\ttrain-error:0.010098\tvalid-error:0.023543\n",
      "[110]\ttrain-error:0.009257\tvalid-error:0.024664\n",
      "Stopping. Best iteration:\n",
      "[62]\ttrain-error:0.012342\tvalid-error:0.022422\n",
      "\n"
     ]
    }
   ],
   "source": [
    "d_train = xgb.DMatrix(X_train, label=y_train)\n",
    "d_valid = xgb.DMatrix(X_valid, label=y_valid)\n",
    "\n",
    "watchlist = [(d_train, 'train'), (d_valid, 'valid')]\n",
    "\n",
    "bst = xgb.train(params, d_train, 400, watchlist, early_stopping_rounds=50, verbose_eval=10)"
   ]
  },
  {
   "cell_type": "code",
   "execution_count": 36,
   "metadata": {},
   "outputs": [
    {
     "name": "stdout",
     "output_type": "stream",
     "text": [
      "Test Accuracy:  0.9757847533632287\n"
     ]
    }
   ],
   "source": [
    "# Predict values for test set\n",
    "d_test = xgb.DMatrix(X_test)\n",
    "p_test = bst.predict(d_test)\n",
    "\n",
    "# Apply function round() to each element in np array\n",
    "# so predictions are all either 0 or 1.\n",
    "npround = np.vectorize(round)\n",
    "p_test_ints = npround(p_test)\n",
    "\n",
    "# Error rate for test set\n",
    "accuracy = accuracy_score(y_test, p_test_ints)\n",
    "print(\"Test Accuracy: \", accuracy)"
   ]
  },
  {
   "cell_type": "code",
   "execution_count": 37,
   "metadata": {
    "scrolled": true
   },
   "outputs": [
    {
     "name": "stdout",
     "output_type": "stream",
     "text": [
      "[1]\tvalid_0's auc: 0.936861\tvalid_0's binary_logloss: 0.613462\n",
      "Training until validation scores don't improve for 10 rounds.\n",
      "[2]\tvalid_0's auc: 0.962487\tvalid_0's binary_logloss: 0.549302\n",
      "[3]\tvalid_0's auc: 0.970679\tvalid_0's binary_logloss: 0.493274\n",
      "[4]\tvalid_0's auc: 0.979984\tvalid_0's binary_logloss: 0.449031\n",
      "[5]\tvalid_0's auc: 0.980832\tvalid_0's binary_logloss: 0.40781\n",
      "[6]\tvalid_0's auc: 0.980877\tvalid_0's binary_logloss: 0.373105\n",
      "[7]\tvalid_0's auc: 0.976482\tvalid_0's binary_logloss: 0.343872\n",
      "[8]\tvalid_0's auc: 0.976546\tvalid_0's binary_logloss: 0.356249\n",
      "[9]\tvalid_0's auc: 0.975589\tvalid_0's binary_logloss: 0.328621\n",
      "[10]\tvalid_0's auc: 0.976231\tvalid_0's binary_logloss: 0.303207\n",
      "[11]\tvalid_0's auc: 0.978005\tvalid_0's binary_logloss: 0.280336\n",
      "[12]\tvalid_0's auc: 0.977574\tvalid_0's binary_logloss: 0.288986\n",
      "[13]\tvalid_0's auc: 0.978731\tvalid_0's binary_logloss: 0.268105\n",
      "[14]\tvalid_0's auc: 0.979213\tvalid_0's binary_logloss: 0.249314\n",
      "[15]\tvalid_0's auc: 0.980838\tvalid_0's binary_logloss: 0.230341\n",
      "[16]\tvalid_0's auc: 0.980993\tvalid_0's binary_logloss: 0.215733\n",
      "[17]\tvalid_0's auc: 0.986994\tvalid_0's binary_logloss: 0.203033\n",
      "[18]\tvalid_0's auc: 0.986339\tvalid_0's binary_logloss: 0.191375\n",
      "[19]\tvalid_0's auc: 0.986673\tvalid_0's binary_logloss: 0.180185\n",
      "[20]\tvalid_0's auc: 0.987354\tvalid_0's binary_logloss: 0.169401\n",
      "[21]\tvalid_0's auc: 0.987238\tvalid_0's binary_logloss: 0.172288\n",
      "[22]\tvalid_0's auc: 0.989012\tvalid_0's binary_logloss: 0.161804\n",
      "[23]\tvalid_0's auc: 0.989179\tvalid_0's binary_logloss: 0.152777\n",
      "[24]\tvalid_0's auc: 0.990297\tvalid_0's binary_logloss: 0.144031\n",
      "[25]\tvalid_0's auc: 0.990477\tvalid_0's binary_logloss: 0.13699\n",
      "[26]\tvalid_0's auc: 0.991184\tvalid_0's binary_logloss: 0.129782\n",
      "[27]\tvalid_0's auc: 0.991634\tvalid_0's binary_logloss: 0.123278\n",
      "[28]\tvalid_0's auc: 0.991711\tvalid_0's binary_logloss: 0.125537\n",
      "[29]\tvalid_0's auc: 0.991788\tvalid_0's binary_logloss: 0.11934\n",
      "[30]\tvalid_0's auc: 0.991968\tvalid_0's binary_logloss: 0.114138\n",
      "[31]\tvalid_0's auc: 0.992508\tvalid_0's binary_logloss: 0.114001\n",
      "[32]\tvalid_0's auc: 0.992649\tvalid_0's binary_logloss: 0.109209\n",
      "[33]\tvalid_0's auc: 0.993266\tvalid_0's binary_logloss: 0.103912\n",
      "[34]\tvalid_0's auc: 0.993471\tvalid_0's binary_logloss: 0.0992453\n",
      "[35]\tvalid_0's auc: 0.993292\tvalid_0's binary_logloss: 0.101323\n",
      "[36]\tvalid_0's auc: 0.993163\tvalid_0's binary_logloss: 0.1047\n",
      "[37]\tvalid_0's auc: 0.993587\tvalid_0's binary_logloss: 0.0999747\n",
      "[38]\tvalid_0's auc: 0.993921\tvalid_0's binary_logloss: 0.0955557\n",
      "[39]\tvalid_0's auc: 0.994243\tvalid_0's binary_logloss: 0.0915749\n",
      "[40]\tvalid_0's auc: 0.994538\tvalid_0's binary_logloss: 0.090474\n",
      "[41]\tvalid_0's auc: 0.994564\tvalid_0's binary_logloss: 0.0923991\n",
      "[42]\tvalid_0's auc: 0.994628\tvalid_0's binary_logloss: 0.0886611\n",
      "[43]\tvalid_0's auc: 0.994551\tvalid_0's binary_logloss: 0.0906748\n",
      "[44]\tvalid_0's auc: 0.995116\tvalid_0's binary_logloss: 0.0868888\n",
      "[45]\tvalid_0's auc: 0.994962\tvalid_0's binary_logloss: 0.0836861\n",
      "[46]\tvalid_0's auc: 0.994911\tvalid_0's binary_logloss: 0.086589\n",
      "[47]\tvalid_0's auc: 0.994757\tvalid_0's binary_logloss: 0.0837113\n",
      "[48]\tvalid_0's auc: 0.994782\tvalid_0's binary_logloss: 0.0834712\n",
      "[49]\tvalid_0's auc: 0.994808\tvalid_0's binary_logloss: 0.085488\n",
      "[50]\tvalid_0's auc: 0.994847\tvalid_0's binary_logloss: 0.0873864\n",
      "[51]\tvalid_0's auc: 0.994975\tvalid_0's binary_logloss: 0.0839663\n",
      "[52]\tvalid_0's auc: 0.995361\tvalid_0's binary_logloss: 0.080851\n",
      "[53]\tvalid_0's auc: 0.995412\tvalid_0's binary_logloss: 0.082215\n",
      "[54]\tvalid_0's auc: 0.995129\tvalid_0's binary_logloss: 0.0798144\n",
      "[55]\tvalid_0's auc: 0.995489\tvalid_0's binary_logloss: 0.0772849\n",
      "[56]\tvalid_0's auc: 0.995309\tvalid_0's binary_logloss: 0.0792696\n",
      "[57]\tvalid_0's auc: 0.995425\tvalid_0's binary_logloss: 0.0771112\n",
      "[58]\tvalid_0's auc: 0.995515\tvalid_0's binary_logloss: 0.0789571\n",
      "[59]\tvalid_0's auc: 0.995438\tvalid_0's binary_logloss: 0.0808845\n",
      "[60]\tvalid_0's auc: 0.995695\tvalid_0's binary_logloss: 0.0784152\n",
      "[61]\tvalid_0's auc: 0.995618\tvalid_0's binary_logloss: 0.0800202\n",
      "[62]\tvalid_0's auc: 0.995361\tvalid_0's binary_logloss: 0.0773648\n",
      "[63]\tvalid_0's auc: 0.995746\tvalid_0's binary_logloss: 0.0745676\n",
      "[64]\tvalid_0's auc: 0.995823\tvalid_0's binary_logloss: 0.0758794\n",
      "[65]\tvalid_0's auc: 0.995708\tvalid_0's binary_logloss: 0.0772905\n",
      "[66]\tvalid_0's auc: 0.995271\tvalid_0's binary_logloss: 0.075378\n",
      "[67]\tvalid_0's auc: 0.995014\tvalid_0's binary_logloss: 0.0737808\n",
      "[68]\tvalid_0's auc: 0.994962\tvalid_0's binary_logloss: 0.0716224\n",
      "[69]\tvalid_0's auc: 0.994834\tvalid_0's binary_logloss: 0.0730078\n",
      "[70]\tvalid_0's auc: 0.994769\tvalid_0's binary_logloss: 0.0735863\n",
      "[71]\tvalid_0's auc: 0.994808\tvalid_0's binary_logloss: 0.0743629\n",
      "[72]\tvalid_0's auc: 0.994602\tvalid_0's binary_logloss: 0.0723479\n",
      "[73]\tvalid_0's auc: 0.994551\tvalid_0's binary_logloss: 0.0702779\n",
      "[74]\tvalid_0's auc: 0.994525\tvalid_0's binary_logloss: 0.0712265\n",
      "Early stopping, best iteration is:\n",
      "[64]\tvalid_0's auc: 0.995823\tvalid_0's binary_logloss: 0.0758794\n"
     ]
    }
   ],
   "source": [
    "y_validd = np.where(y_valid.is_spam==False,0,1 )\n",
    "y_trainn = np.where(y_train.is_spam==False,0,1 )\n",
    "y_testt = np.where(y_test.is_spam==False,0,1 )\n",
    "train_data = lgb.Dataset(X_train,\n",
    "                         label=(y_trainn.astype(int)),\n",
    "                        )\n",
    "param = {'num_leaves':60, 'objective':'binary','max_depth':4,'learning_rate':0.1,'max_bin':2000,\"is_unbalance\":True,\n",
    "        #\"categorical_feature\":[1,2,3,4,5,6,8,10,11,13,14,15,16,17,18],\n",
    "         'boost_from_average':True,'reg_sqrt':True,\n",
    "         \"boosting\":\"dart\",\n",
    "         \"use_missing\":True,\n",
    "         \"zero_as_missing\":True,          \n",
    "         #\"max_cat_to_onehot\":10,\n",
    "         \"top_k\":10000,\n",
    "         #\"cat_smooth\":10.0,\"cat_l2\":10\n",
    "        \"tree_learner\":\"data\",\n",
    "         \"min_child_weight\":1.1,\n",
    "         'sparse_threshold':0.8,\n",
    "         'is_enable_sparse':True,\n",
    "         'cat_smooth':10,\n",
    "         'cat_l2':10\n",
    "        }\n",
    "param['metric'] = ['auc', 'binary_logloss']\n",
    "num_round=5000\n",
    "lgb_eval = lgb.Dataset(X_valid,\n",
    "                       label=y_validd.astype(int),\n",
    "                      ) \n",
    "lgg =lgb.train(param,\n",
    "                train_data,\n",
    "                num_boost_round=num_round,\n",
    "                valid_sets=lgb_eval\n",
    "               ,early_stopping_rounds=10\n",
    "               \n",
    "              )"
   ]
  },
  {
   "cell_type": "code",
   "execution_count": 38,
   "metadata": {},
   "outputs": [],
   "source": [
    "# Predict values for test set\n",
    "lg_pred = pd.DataFrame(lgg.predict(X_test))\n",
    "lg_pred.index = X_test.index\n",
    "y_testt = pd.DataFrame(y_testt)\n",
    "y_testt.index = X_test.index\n",
    "y_testt = y_testt.rename(columns = {0:'is_spam'})\n",
    "lg_pred = lg_pred.rename(columns = {0:'Pred'})\n",
    "finalss = pd.concat([lg_pred,y_testt],axis = 1)\n"
   ]
  },
  {
   "cell_type": "code",
   "execution_count": 39,
   "metadata": {},
   "outputs": [
    {
     "name": "stdout",
     "output_type": "stream",
     "text": [
      "Predicted    0    1\n",
      "Actual             \n",
      "0          955   10\n",
      "1            8  142\n"
     ]
    }
   ],
   "source": [
    "finalss['Pred'] = np.where(finalss['Pred']>0.50,1,0)\n",
    "confusion_matrix = pd.crosstab(finalss['is_spam'], finalss['Pred'], rownames=['Actual'], colnames=['Predicted'])\n",
    "print (confusion_matrix)"
   ]
  },
  {
   "cell_type": "code",
   "execution_count": 40,
   "metadata": {
    "scrolled": true
   },
   "outputs": [
    {
     "data": {
      "text/plain": [
       "0.9681519861830743"
      ]
     },
     "execution_count": 40,
     "metadata": {},
     "output_type": "execute_result"
    }
   ],
   "source": [
    "from sklearn.metrics import roc_auc_score\n",
    "roc_auc_score(finalss['is_spam'], finalss['Pred'].astype(int))"
   ]
  },
  {
   "cell_type": "markdown",
   "metadata": {},
   "source": [
    "#### As we can see there has been significant improvement in our result after adding word embeddings in the form state-of-the-art BERT embedding and results have jumped for both valid as well as test data."
   ]
  },
  {
   "cell_type": "markdown",
   "metadata": {},
   "source": [
    "### Applying a simple Neural Network (DNN) to further improve the results."
   ]
  },
  {
   "cell_type": "markdown",
   "metadata": {},
   "source": [
    "> The input dataset is mixture of character len + word len + hand-picked subset of words + **BERT** embedding (768 vector len)"
   ]
  },
  {
   "cell_type": "code",
   "execution_count": 50,
   "metadata": {},
   "outputs": [],
   "source": [
    "from keras.preprocessing.text import Tokenizer\n",
    "from keras.utils import to_categorical\n",
    "from keras.preprocessing.sequence import pad_sequences\n",
    "from keras.models import Sequential\n",
    "from keras.layers import Dense\n",
    "from keras.layers import Dropout\n",
    "from keras.layers import GlobalMaxPool1D\n",
    "from keras.layers import LSTM\n",
    "from keras.layers import Bidirectional\n",
    "from keras.layers import Embedding\n",
    "from keras.models import load_model\n",
    "import pickle"
   ]
  },
  {
   "cell_type": "code",
   "execution_count": 45,
   "metadata": {},
   "outputs": [
    {
     "data": {
      "text/plain": [
       "(5572, 811)"
      ]
     },
     "execution_count": 45,
     "metadata": {},
     "output_type": "execute_result"
    }
   ],
   "source": [
    "df.shape"
   ]
  },
  {
   "cell_type": "markdown",
   "metadata": {},
   "source": [
    "> #### Simple Keras model where we can define encoding dimensions and play aroung with it see any improvements. We also use class_Weights here to assist the model in better the distribution of the 2 classes (ham and spam.)"
   ]
  },
  {
   "cell_type": "code",
   "execution_count": 57,
   "metadata": {},
   "outputs": [
    {
     "name": "stdout",
     "output_type": "stream",
     "text": [
      "_________________________________________________________________\n",
      "Layer (type)                 Output Shape              Param #   \n",
      "=================================================================\n",
      "dense_10 (Dense)             (None, 150)               121350    \n",
      "_________________________________________________________________\n",
      "dense_11 (Dense)             (None, 75)                11325     \n",
      "_________________________________________________________________\n",
      "dense_12 (Dense)             (None, 1)                 76        \n",
      "=================================================================\n",
      "Total params: 132,751\n",
      "Trainable params: 132,751\n",
      "Non-trainable params: 0\n",
      "_________________________________________________________________\n"
     ]
    },
    {
     "data": {
      "text/plain": [
       "{0: 0.5813763861709067, 1: 3.5721442885771544}"
      ]
     },
     "execution_count": 57,
     "metadata": {},
     "output_type": "execute_result"
    }
   ],
   "source": [
    "input_dim = X_train.shape[1]\n",
    "encoding_dim = 150\n",
    "\n",
    "model = Sequential()\n",
    "model.add(Dense(encoding_dim, input_dim=input_dim, kernel_initializer='normal', activation='relu'))\n",
    "model.add(Dense(int(encoding_dim/2), kernel_initializer='normal', activation='relu'))\n",
    "model.add(Dense(1,  activation='sigmoid'))\n",
    "model.summary()\n",
    "from sklearn.utils import class_weight\n",
    "unique_class_weights = np.unique(y_trainn.astype(int))\n",
    "class_weights = class_weight.compute_class_weight('balanced', unique_class_weights, y_trainn.astype(int))\n",
    "class_weights_dict = { unique_class_weights[i]: w for i,w in enumerate(class_weights) }\n",
    "class_weights_dict"
   ]
  },
  {
   "cell_type": "code",
   "execution_count": 59,
   "metadata": {},
   "outputs": [
    {
     "name": "stdout",
     "output_type": "stream",
     "text": [
      "Train on 3565 samples, validate on 892 samples\n",
      "Epoch 1/10\n",
      "3565/3565 [==============================] - 2s 427us/step - loss: 0.0882 - acc: 0.9722 - val_loss: 0.0726 - val_acc: 0.9742\n",
      "\n",
      "Epoch 00001: val_loss improved from inf to 0.07261, saving model to spam.h5\n",
      "Epoch 2/10\n",
      "3565/3565 [==============================] - 1s 332us/step - loss: 0.0898 - acc: 0.9686 - val_loss: 0.0454 - val_acc: 0.9821\n",
      "\n",
      "Epoch 00002: val_loss improved from 0.07261 to 0.04543, saving model to spam.h5\n",
      "Epoch 3/10\n",
      "3565/3565 [==============================] - 1s 329us/step - loss: 0.0410 - acc: 0.9837 - val_loss: 0.0495 - val_acc: 0.9843\n",
      "\n",
      "Epoch 00003: val_loss did not improve from 0.04543\n"
     ]
    }
   ],
   "source": [
    "from keras.callbacks import EarlyStopping, ModelCheckpoint\n",
    "epoch = 10\n",
    "batch_size = 32\n",
    "\n",
    "model.compile(optimizer='adam', loss=\"binary_crossentropy\", metrics=[\"accuracy\"])\n",
    "early = EarlyStopping(monitor=\"val_loss\", mode=\"min\", patience=1)\n",
    "check_pointer = ModelCheckpoint(filepath=\"spam.h5\", verbose=1, monitor='val_loss', \n",
    "                                mode ='min', save_best_only=True)\n",
    "\n",
    "history = model.fit(X_train, y_trainn.astype(int), epochs=epoch, batch_size=batch_size, shuffle=True,class_weight=class_weights_dict,\n",
    "                            validation_data=(X_valid, y_validd.astype(int)), verbose=1, callbacks=[check_pointer,early])"
   ]
  },
  {
   "cell_type": "code",
   "execution_count": 63,
   "metadata": {},
   "outputs": [
    {
     "name": "stdout",
     "output_type": "stream",
     "text": [
      "Predicted    0    1\n",
      "Actual             \n",
      "0          956    9\n",
      "1            6  144\n"
     ]
    }
   ],
   "source": [
    "### Binary.\n",
    "nn_pred = pd.DataFrame(model.predict(X_test))\n",
    "nn_pred.index = y_testt.index\n",
    "finalss = pd.concat([nn_pred,y_testt],axis = 1)\n",
    "finalss['Pred'] = np.where(finalss[0]>0.50,1,0)\n",
    "confusion_matrix = pd.crosstab(finalss['is_spam'], finalss['Pred'], rownames=['Actual'], colnames=['Predicted'])\n",
    "print(confusion_matrix)"
   ]
  },
  {
   "cell_type": "code",
   "execution_count": 64,
   "metadata": {},
   "outputs": [
    {
     "data": {
      "text/plain": [
       "0.9753367875647668"
      ]
     },
     "execution_count": 64,
     "metadata": {},
     "output_type": "execute_result"
    }
   ],
   "source": [
    "from sklearn.metrics import roc_auc_score \n",
    "roc_auc_score(finalss['is_spam'], finalss['Pred']) "
   ]
  }
 ],
 "metadata": {
  "kernelspec": {
   "display_name": "Python 3",
   "language": "python",
   "name": "python3"
  },
  "language_info": {
   "codemirror_mode": {
    "name": "ipython",
    "version": 3
   },
   "file_extension": ".py",
   "mimetype": "text/x-python",
   "name": "python",
   "nbconvert_exporter": "python",
   "pygments_lexer": "ipython3",
   "version": "3.7.3"
  }
 },
 "nbformat": 4,
 "nbformat_minor": 4
}
